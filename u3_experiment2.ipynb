{
 "cells": [
  {
   "cell_type": "code",
   "execution_count": 1,
   "metadata": {},
   "outputs": [
    {
     "name": "stderr",
     "output_type": "stream",
     "text": [
      "/home/ellakiya/.pyenv/versions/3.7.11/lib/python3.7/site-packages/tqdm/auto.py:21: TqdmWarning: IProgress not found. Please update jupyter and ipywidgets. See https://ipywidgets.readthedocs.io/en/stable/user_install.html\n",
      "  from .autonotebook import tqdm as notebook_tqdm\n"
     ]
    }
   ],
   "source": [
    "# Required libraries\n",
    "import torch\n",
    "import torchvision\n",
    "from torchvision.models.detection import fasterrcnn_resnet50_fpn\n",
    "from torchvision.models.detection.faster_rcnn import FastRCNNPredictor\n",
    "from torchvision.transforms import functional as F\n",
    "import cv2\n",
    "import numpy as np\n",
    "from PIL import Image\n",
    "import matplotlib.pyplot as plt\n",
    "from matplotlib.patches import Rectangle"
   ]
  },
  {
   "cell_type": "code",
   "execution_count": 2,
   "metadata": {},
   "outputs": [
    {
     "name": "stderr",
     "output_type": "stream",
     "text": [
      "/home/ellakiya/.pyenv/versions/3.7.11/lib/python3.7/site-packages/torchvision/models/_utils.py:209: UserWarning: The parameter 'pretrained' is deprecated since 0.13 and may be removed in the future, please use 'weights' instead.\n",
      "  f\"The parameter '{pretrained_param}' is deprecated since 0.13 and may be removed in the future, \"\n",
      "/home/ellakiya/.pyenv/versions/3.7.11/lib/python3.7/site-packages/torchvision/models/_utils.py:223: UserWarning: Arguments other than a weight enum or `None` for 'weights' are deprecated since 0.13 and may be removed in the future. The current behavior is equivalent to passing `weights=FasterRCNN_ResNet50_FPN_Weights.COCO_V1`. You can also use `weights=FasterRCNN_ResNet50_FPN_Weights.DEFAULT` to get the most up-to-date weights.\n",
      "  warnings.warn(msg)\n",
      "Downloading: \"https://download.pytorch.org/models/fasterrcnn_resnet50_fpn_coco-258fb6c6.pth\" to /home/ellakiya/.cache/torch/hub/checkpoints/fasterrcnn_resnet50_fpn_coco-258fb6c6.pth\n",
      "100%|██████████| 160M/160M [02:28<00:00, 1.13MB/s] \n"
     ]
    }
   ],
   "source": [
    "def get_fasterrcnn_model(num_classes):\n",
    "    # Load a pre-trained model\n",
    "    model = fasterrcnn_resnet50_fpn(pretrained=True)\n",
    "    \n",
    "    # Replace the classifier with a new one for custom number of classes\n",
    "    in_features = model.roi_heads.box_predictor.cls_score.in_features\n",
    "    model.roi_heads.box_predictor = FastRCNNPredictor(in_features, num_classes)\n",
    "    \n",
    "    return model\n",
    "\n",
    "# Example usage for a dataset with 5 classes (including background)\n",
    "model = get_fasterrcnn_model(5)"
   ]
  },
  {
   "cell_type": "code",
   "execution_count": 3,
   "metadata": {},
   "outputs": [],
   "source": [
    "from ultralytics import YOLO\n",
    "\n",
    "def get_yolo_model(model_size='yolov8n.pt'):\n",
    "    # Load a pre-trained YOLO model\n",
    "    model = YOLO(model_size)\n",
    "    return model\n",
    "\n",
    "# Example usage\n",
    "yolo_model = get_yolo_model()"
   ]
  },
  {
   "cell_type": "code",
   "execution_count": 9,
   "metadata": {},
   "outputs": [],
   "source": [
    "from torch.utils.data import Dataset\n",
    "\n",
    "class RobotVisionDataset(Dataset):\n",
    "    def __init__(self, image_paths, annotations, transforms=None):\n",
    "        self.image_paths = image_paths\n",
    "        self.annotations = annotations\n",
    "        self.transforms = transforms\n",
    "        \n",
    "    def __getitem__(self, idx):\n",
    "        img_path = self.image_paths[idx]\n",
    "        img = Image.open(img_path).convert(\"RGB\")\n",
    "        \n",
    "        # Get annotations for this image\n",
    "        anns = self.annotations[idx]\n",
    "        boxes = anns['boxes']\n",
    "        labels = anns['labels']\n",
    "        \n",
    "        # Convert to tensors\n",
    "        boxes = torch.as_tensor(boxes, dtype=torch.float32)\n",
    "        labels = torch.as_tensor(labels, dtype=torch.int64)\n",
    "        \n",
    "        target = {}\n",
    "        target[\"boxes\"] = boxes\n",
    "        target[\"labels\"] = labels\n",
    "        \n",
    "        if self.transforms:\n",
    "            img = self.transforms(img)\n",
    "            \n",
    "        return img, target\n",
    "    \n",
    "    def __len__(self):\n",
    "        return len(self.image_paths)"
   ]
  },
  {
   "cell_type": "code",
   "execution_count": 10,
   "metadata": {},
   "outputs": [],
   "source": [
    "def train_model(model, train_loader, optimizer, device, num_epochs=10):\n",
    "    model.train()\n",
    "    model.to(device)\n",
    "    \n",
    "    for epoch in range(num_epochs):\n",
    "        running_loss = 0.0\n",
    "        \n",
    "        for images, targets in train_loader:\n",
    "            images = list(image.to(device) for image in images)\n",
    "            targets = [{k: v.to(device) for k, v in t.items()} for t in targets]\n",
    "            \n",
    "            optimizer.zero_grad()\n",
    "            loss_dict = model(images, targets)\n",
    "            losses = sum(loss for loss in loss_dict.values())\n",
    "            losses.backward()\n",
    "            optimizer.step()\n",
    "            \n",
    "            running_loss += losses.item()\n",
    "        \n",
    "        print(f\"Epoch {epoch+1}/{num_epochs}, Loss: {running_loss/len(train_loader)}\")\n",
    "    \n",
    "    return model"
   ]
  },
  {
   "cell_type": "code",
   "execution_count": 11,
   "metadata": {},
   "outputs": [],
   "source": [
    "def detect_objects(model, image_path, confidence_threshold=0.7):\n",
    "    # Load image\n",
    "    img = Image.open(image_path).convert(\"RGB\")\n",
    "    img_tensor = F.to_tensor(img).unsqueeze(0)\n",
    "    \n",
    "    # Set model to eval mode and run inference\n",
    "    model.eval()\n",
    "    with torch.no_grad():\n",
    "        predictions = model(img_tensor)\n",
    "    \n",
    "    # Process predictions\n",
    "    pred = predictions[0]\n",
    "    boxes = pred['boxes'][pred['scores'] > confidence_threshold]\n",
    "    labels = pred['labels'][pred['scores'] > confidence_threshold]\n",
    "    scores = pred['scores'][pred['scores'] > confidence_threshold]\n",
    "    \n",
    "    # Convert to numpy for visualization\n",
    "    img_np = np.array(img)\n",
    "    \n",
    "    # Draw bounding boxes\n",
    "    for box, label, score in zip(boxes, labels, scores):\n",
    "        box = box.cpu().numpy().astype(int)\n",
    "        cv2.rectangle(img_np, (box[0], box[1]), (box[2], box[3]), (0, 255, 0), 2)\n",
    "        cv2.putText(img_np, f\"{label}: {score:.2f}\", (box[0], box[1]-10), \n",
    "                   cv2.FONT_HERSHEY_SIMPLEX, 0.5, (0, 255, 0), 2)\n",
    "    \n",
    "    return img_np"
   ]
  },
  {
   "cell_type": "code",
   "execution_count": 14,
   "metadata": {},
   "outputs": [],
   "source": [
    "def evaluate_model(model, test_loader, device):\n",
    "    model.eval()\n",
    "    model.to(device)\n",
    "    \n",
    "    all_preds = []\n",
    "    all_targets = []\n",
    "    \n",
    "    with torch.no_grad():\n",
    "        for images, targets in test_loader:\n",
    "            images = list(image.to(device) for image in images)\n",
    "            predictions = model(images)\n",
    "            \n",
    "            all_preds.extend(predictions)\n",
    "            all_targets.extend(targets)\n",
    "    \n",
    "    # Calculate mAP (mean Average Precision)\n",
    "    # Note: In practice, you'd use a proper evaluation function\n",
    "    # This is a simplified placeholder\n",
    "    mAP = calculate_mAP(all_preds, all_targets)\n",
    "    \n",
    "    print(f\"Model mAP: {mAP:.4f}\")\n",
    "    return mAP"
   ]
  }
 ],
 "metadata": {
  "kernelspec": {
   "display_name": "3.7.11",
   "language": "python",
   "name": "python3"
  },
  "language_info": {
   "codemirror_mode": {
    "name": "ipython",
    "version": 3
   },
   "file_extension": ".py",
   "mimetype": "text/x-python",
   "name": "python",
   "nbconvert_exporter": "python",
   "pygments_lexer": "ipython3",
   "version": "3.7.11"
  }
 },
 "nbformat": 4,
 "nbformat_minor": 2
}
